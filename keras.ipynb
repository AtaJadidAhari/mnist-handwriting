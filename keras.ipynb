{
 "cells": [
  {
   "cell_type": "code",
   "execution_count": 126,
   "metadata": {},
   "outputs": [],
   "source": [
    "import numpy as np\n",
    "from keras.utils import np_utils"
   ]
  },
  {
   "cell_type": "code",
   "execution_count": 124,
   "metadata": {},
   "outputs": [],
   "source": [
    "\n",
    "train_data = np.genfromtxt('trainImage.csv', delimiter=',')\n",
    "train_labels = np.genfromtxt('trainLabel.csv', delimiter=',')\n",
    "\n",
    "test_data = np.genfromtxt('testImage.csv', delimiter=',')\n",
    "test_labels = np.genfromtxt('testLabel.csv', delimiter=',')\n"
   ]
  },
  {
   "cell_type": "code",
   "execution_count": 127,
   "metadata": {},
   "outputs": [
    {
     "name": "stdout",
     "output_type": "stream",
     "text": [
      "48000\n",
      "12000\n",
      "(32, 32, 1)\n",
      "[0. 0. 0. 0. 0. 1. 0. 0. 0. 0.]\n"
     ]
    }
   ],
   "source": [
    "def vectorize_labels(l):\n",
    "    vec = [np.asarray(0) for i in range(10)]\n",
    "    vec[int(l)] = np.asarray(1)\n",
    "    return np.asarray(vec)\n",
    "length = len(data)\n",
    "train_reshaped = np.reshape(train_data ,(length, 28, 28, 1))\n",
    "test_reshaped = np.reshape(train_data ,(length, 28, 28, 1))\n",
    "\n",
    "#updating size to original lenet5 data\n",
    "train_reshaped = np.pad(train_reshaped, ((0,0),(2,2),(2,2),(0,0)), 'constant')\n",
    "test_reshaped = np.pad(test_reshaped, ((0,0),(2,2),(2,2),(0,0)), 'constant')\n",
    "\n",
    "train_length = int(length * 0.8)\n",
    "train_labels = np_utils.to_categorical(train_labels, 10)\n",
    "test_labels = np_utils.to_categorical(test_labels, 10)\n",
    "\n",
    "X_train, y_train = train_reshaped[: train_length],  train_labels[: train_length]\n",
    "X_validation, y_validation = train_reshaped[train_length : ],  train_labels[ train_length :]\n",
    "\n",
    "\n",
    "print(len(X_train))\n",
    "print(len(X_validation))\n",
    "\n",
    "print(X_train[0].shape)\n",
    "print(y_train[0])\n"
   ]
  },
  {
   "cell_type": "code",
   "execution_count": 40,
   "metadata": {},
   "outputs": [
    {
     "data": {
      "image/png": "[encoded data removed]",
      "text/plain": [
       "<Figure size 432x288 with 1 Axes>"
      ]
     },
     "metadata": {
      "needs_background": "light"
     },
     "output_type": "display_data"
    }
   ],
   "source": [
    "import matplotlib.pyplot as plt\n",
    "def display_image(position):\n",
    "    image = data_reshaped[position].squeeze()\n",
    "    plt.title('Example number: ' + str(position) + \" labeled as: \" + str(labels[position]))\n",
    "    plt.imshow(image, cmap=plt.cm.gray_r)\n",
    "    plt.show()\n",
    "    \n",
    "display_image(842)"
   ]
  },
  {
   "cell_type": "code",
   "execution_count": 128,
   "metadata": {},
   "outputs": [
    {
     "name": "stdout",
     "output_type": "stream",
     "text": [
      "Model: \"sequential_26\"\n",
      "_________________________________________________________________\n",
      "Layer (type)                 Output Shape              Param #   \n",
      "=================================================================\n",
      "conv2d_48 (Conv2D)           (None, 30, 30, 6)         60        \n",
      "_________________________________________________________________\n",
      "average_pooling2d_48 (Averag (None, 15, 15, 6)         0         \n",
      "_________________________________________________________________\n",
      "conv2d_49 (Conv2D)           (None, 13, 13, 16)        880       \n",
      "_________________________________________________________________\n",
      "average_pooling2d_49 (Averag (None, 6, 6, 16)          0         \n",
      "_________________________________________________________________\n",
      "flatten_24 (Flatten)         (None, 576)               0         \n",
      "_________________________________________________________________\n",
      "dense_72 (Dense)             (None, 120)               69240     \n",
      "_________________________________________________________________\n",
      "dense_73 (Dense)             (None, 84)                10164     \n",
      "_________________________________________________________________\n",
      "dense_74 (Dense)             (None, 10)                850       \n",
      "=================================================================\n",
      "Total params: 81,194\n",
      "Trainable params: 81,194\n",
      "Non-trainable params: 0\n",
      "_________________________________________________________________\n"
     ]
    }
   ],
   "source": [
    "import keras.layers as layers\n",
    "import keras\n",
    "from keras.preprocessing.image import ImageDataGenerator\n",
    "from keras.callbacks import TensorBoard\n",
    "from time import time\n",
    "model = keras.Sequential()\n",
    "\n",
    "model.add(layers.Conv2D(filters=6, kernel_size=(3, 3), activation='relu', input_shape=(32,32,1)))\n",
    "model.add(layers.AveragePooling2D())\n",
    "\n",
    "model.add(layers.Conv2D(filters=16, kernel_size=(3, 3), activation='relu'))\n",
    "model.add(layers.AveragePooling2D())\n",
    "\n",
    "model.add(layers.Flatten())\n",
    "\n",
    "model.add(layers.Dense(units=120, activation='relu'))\n",
    "\n",
    "model.add(layers.Dense(units=84, activation='relu'))\n",
    "\n",
    "model.add(layers.Dense(units=10, activation = 'sigmoid'))\n",
    "\n",
    "model.compile(loss=keras.losses.categorical_crossentropy, optimizer=keras.optimizers.Adam(), metrics=['accuracy'])\n",
    "EPOCHS = 10\n",
    "BATCH_SIZE = 128\n",
    "\n",
    "train_generator = ImageDataGenerator().flow(X_train, y_train, batch_size=BATCH_SIZE)\n",
    "validation_generator = ImageDataGenerator().flow(X_validation, y_validation, batch_size=BATCH_SIZE)\n",
    "\n",
    "model.summary()"
   ]
  },
  {
   "cell_type": "code",
   "execution_count": 129,
   "metadata": {},
   "outputs": [
    {
     "name": "stdout",
     "output_type": "stream",
     "text": [
      "# of training images: 48000\n",
      "# of validation images: 12000\n",
      "  2/375 [..............................] - ETA: 2:20 - loss: 7.3544 - accuracy: 0.0664WARNING:tensorflow:Callbacks method `on_train_batch_end` is slow compared to the batch time (batch time: 0.0239s vs `on_train_batch_end` time: 0.7275s). Check your callbacks.\n",
      "375/375 [==============================] - 10s 26ms/step - loss: 2.7699 - accuracy: 0.1647 - val_loss: 1.3503 - val_accuracy: 0.1201\n",
      "1500/1500 [==============================] - 12s 8ms/step - loss: 0.1991 - accuracy: 0.8995 - val_loss: 0.0779 - val_accuracy: 0.9789\n"
     ]
    }
   ],
   "source": [
    "print('# of training images:', X_train.shape[0])\n",
    "print('# of validation images:', X_validation.shape[0])\n",
    "\n",
    "steps_per_epoch = X_train.shape[0]//BATCH_SIZE\n",
    "validation_steps = X_validation.shape[0]//BATCH_SIZE\n",
    "\n",
    "tensorboard = TensorBoard(log_dir=\"logs/{}\".format(time()))\n",
    "model.fit_generator(train_generator, steps_per_epoch=steps_per_epoch, epochs=EPOCHS, \n",
    "                    validation_data=validation_generator, validation_steps=validation_steps,  \n",
    "                    shuffle=True, callbacks=[tensorboard])\n",
    "                    \n",
    "\n",
    "\n",
    "...\n",
    "history = model.fit(X_train, y_train, validation_data=(X_validation, y_validation))"
   ]
  }
 ],
 "metadata": {
  "kernelspec": {
   "display_name": "Python 3",
   "language": "python",
   "name": "python3"
  },
  "language_info": {
   "codemirror_mode": {
    "name": "ipython",
    "version": 3
   },
   "file_extension": ".py",
   "mimetype": "text/x-python",
   "name": "python",
   "nbconvert_exporter": "python",
   "pygments_lexer": "ipython3",
   "version": "3.6.2"
  }
 },
 "nbformat": 4,
 "nbformat_minor": 2
}
