{
 "cells": [
  {
   "cell_type": "code",
   "execution_count": 1,
   "metadata": {},
   "outputs": [],
   "source": [
    "import numpy as np\n",
    "from keras.utils import np_utils\n",
    "import matplotlib.pyplot as plt\n",
    "\n",
    "import keras.layers as layers\n",
    "import keras\n",
    "from keras.preprocessing.image import ImageDataGenerator\n",
    "from keras.callbacks import TensorBoard\n",
    "from time import time"
   ]
  },
  {
   "cell_type": "code",
   "execution_count": 2,
   "metadata": {},
   "outputs": [],
   "source": [
    "\n",
    "train_data = np.genfromtxt('trainImage.csv', delimiter=',')\n",
    "train_labels = np.genfromtxt('trainLabel.csv', delimiter=',')\n",
    "\n",
    "test_data = np.genfromtxt('testImage.csv', delimiter=',')\n",
    "test_labels = np.genfromtxt('testLabel.csv', delimiter=',')\n"
   ]
  },
  {
   "cell_type": "code",
   "execution_count": 6,
   "metadata": {},
   "outputs": [
    {
     "name": "stdout",
     "output_type": "stream",
     "text": [
      "48000\n",
      "12000\n",
      "(32, 32, 1)\n",
      "[0. 0. 0. 0. 0. 1. 0. 0. 0. 0.]\n"
     ]
    }
   ],
   "source": [
    "train_reshaped = np.reshape(train_data ,(len(train_data), 28, 28, 1))\n",
    "test_reshaped = np.reshape(test_data ,(len(test_data), 28, 28, 1))\n",
    "\n",
    "#updating size to original lenet5 data\n",
    "train_reshaped = np.pad(train_reshaped, ((0,0),(2,2),(2,2),(0,0)), 'constant')\n",
    "test_reshaped = np.pad(test_reshaped, ((0,0),(2,2),(2,2),(0,0)), 'constant')\n",
    "\n",
    "train_length = int(len(train_data) * 0.8)\n",
    "train_labels = np_utils.to_categorical(train_labels, 10)\n",
    "test_labels = np_utils.to_categorical(test_labels, 10)\n",
    "\n",
    "X_train, y_train = train_reshaped[: train_length],  train_labels[: train_length]\n",
    "X_validation, y_validation = train_reshaped[train_length : ],  train_labels[ train_length :]\n",
    "\n",
    "\n",
    "print(len(X_train))\n",
    "print(len(X_validation))\n",
    "\n",
    "print(X_train[0].shape)\n",
    "print(y_train[0])\n"
   ]
  },
  {
   "cell_type": "code",
   "execution_count": 8,
   "metadata": {},
   "outputs": [
    {
     "data": {
      "image/png": "[encoded data removed]",
      "text/plain": [
       "<Figure size 432x288 with 1 Axes>"
      ]
     },
     "metadata": {
      "needs_background": "light"
     },
     "output_type": "display_data"
    }
   ],
   "source": [
    "def display_image(position, data, labels):\n",
    "    image = data[position].squeeze()\n",
    "    plt.title('Example number: ' + str(position) + \" labeled as: \" + str(labels[position]))\n",
    "    plt.imshow(image, cmap=plt.cm.gray_r)\n",
    "    plt.show()\n",
    "    \n",
    "display_image(842, X_train, y_train)"
   ]
  },
  {
   "cell_type": "code",
   "execution_count": 9,
   "metadata": {},
   "outputs": [
    {
     "name": "stdout",
     "output_type": "stream",
     "text": [
      "Model: \"sequential\"\n",
      "_________________________________________________________________\n",
      "Layer (type)                 Output Shape              Param #   \n",
      "=================================================================\n",
      "conv2d (Conv2D)              (None, 30, 30, 6)         60        \n",
      "_________________________________________________________________\n",
      "average_pooling2d (AveragePo (None, 15, 15, 6)         0         \n",
      "_________________________________________________________________\n",
      "conv2d_1 (Conv2D)            (None, 13, 13, 16)        880       \n",
      "_________________________________________________________________\n",
      "average_pooling2d_1 (Average (None, 6, 6, 16)          0         \n",
      "_________________________________________________________________\n",
      "flatten (Flatten)            (None, 576)               0         \n",
      "_________________________________________________________________\n",
      "dense (Dense)                (None, 120)               69240     \n",
      "_________________________________________________________________\n",
      "dense_1 (Dense)              (None, 84)                10164     \n",
      "_________________________________________________________________\n",
      "dense_2 (Dense)              (None, 10)                850       \n",
      "=================================================================\n",
      "Total params: 81,194\n",
      "Trainable params: 81,194\n",
      "Non-trainable params: 0\n",
      "_________________________________________________________________\n"
     ]
    }
   ],
   "source": [
    "\n",
    "model = keras.Sequential()\n",
    "\n",
    "model.add(layers.Conv2D(filters=6, kernel_size=(3, 3), activation='relu', input_shape=(32,32,1)))\n",
    "model.add(layers.AveragePooling2D())\n",
    "\n",
    "model.add(layers.Conv2D(filters=16, kernel_size=(3, 3), activation='relu'))\n",
    "model.add(layers.AveragePooling2D())\n",
    "\n",
    "model.add(layers.Flatten())\n",
    "\n",
    "model.add(layers.Dense(units=120, activation='relu'))\n",
    "\n",
    "model.add(layers.Dense(units=84, activation='relu'))\n",
    "\n",
    "model.add(layers.Dense(units=10, activation = 'sigmoid'))\n",
    "\n",
    "model.compile(loss=keras.losses.categorical_crossentropy, optimizer=keras.optimizers.Adam(), metrics=['accuracy'])\n",
    "EPOCHS = 10\n",
    "BATCH_SIZE = 128\n",
    "\n",
    "train_generator = ImageDataGenerator().flow(X_train, y_train, batch_size=BATCH_SIZE)\n",
    "validation_generator = ImageDataGenerator().flow(X_validation, y_validation, batch_size=BATCH_SIZE)\n",
    "\n",
    "model.summary()"
   ]
  },
  {
   "cell_type": "code",
   "execution_count": 10,
   "metadata": {},
   "outputs": [
    {
     "name": "stdout",
     "output_type": "stream",
     "text": [
      "# of training images: 48000\n",
      "# of validation images: 12000\n",
      "WARNING:tensorflow:From <ipython-input-10-579f93568814>:10: Model.fit_generator (from tensorflow.python.keras.engine.training) is deprecated and will be removed in a future version.\n",
      "Instructions for updating:\n",
      "Please use Model.fit, which supports generators.\n",
      "Epoch 1/10\n",
      "  1/375 [..............................] - ETA: 0s - loss: 5.1131 - accuracy: 0.0391WARNING:tensorflow:From c:\\users\\ata jadid ahari\\pycharmprojects\\stack\\venv\\lib\\site-packages\\tensorflow\\python\\ops\\summary_ops_v2.py:1277: stop (from tensorflow.python.eager.profiler) is deprecated and will be removed after 2020-07-01.\n",
      "Instructions for updating:\n",
      "use `tf.profiler.experimental.stop` instead.\n",
      "  2/375 [..............................] - ETA: 2:29 - loss: 4.1092 - accuracy: 0.0625WARNING:tensorflow:Callbacks method `on_train_batch_end` is slow compared to the batch time (batch time: 0.0728s vs `on_train_batch_end` time: 0.7304s). Check your callbacks.\n",
      "375/375 [==============================] - 34s 90ms/step - loss: 0.7418 - accuracy: 0.4990 - val_loss: 0.0909 - val_accuracy: 0.9744\n",
      "Epoch 2/10\n",
      "375/375 [==============================] - 30s 81ms/step - loss: 0.0679 - accuracy: 0.9803 - val_loss: 0.0597 - val_accuracy: 0.9807\n",
      "Epoch 3/10\n",
      "375/375 [==============================] - 33s 87ms/step - loss: 0.0445 - accuracy: 0.9858 - val_loss: 0.0511 - val_accuracy: 0.9847\n",
      "Epoch 4/10\n",
      "375/375 [==============================] - 30s 81ms/step - loss: 0.0313 - accuracy: 0.9899 - val_loss: 0.0476 - val_accuracy: 0.9849\n",
      "Epoch 5/10\n",
      "375/375 [==============================] - 32s 84ms/step - loss: 0.0268 - accuracy: 0.9914 - val_loss: 0.0455 - val_accuracy: 0.9871\n",
      "Epoch 6/10\n",
      "375/375 [==============================] - 31s 83ms/step - loss: 0.0223 - accuracy: 0.9924 - val_loss: 0.0424 - val_accuracy: 0.9869\n",
      "Epoch 7/10\n",
      "375/375 [==============================] - 31s 82ms/step - loss: 0.0165 - accuracy: 0.9941 - val_loss: 0.0428 - val_accuracy: 0.9884\n",
      "Epoch 8/10\n",
      "375/375 [==============================] - 33s 87ms/step - loss: 0.0146 - accuracy: 0.9949 - val_loss: 0.0693 - val_accuracy: 0.9823\n",
      "Epoch 9/10\n",
      "375/375 [==============================] - 31s 84ms/step - loss: 0.0141 - accuracy: 0.9948 - val_loss: 0.0558 - val_accuracy: 0.9862\n",
      "Epoch 10/10\n",
      "375/375 [==============================] - 30s 81ms/step - loss: 0.0139 - accuracy: 0.9954 - val_loss: 0.0501 - val_accuracy: 0.9871\n",
      "1500/1500 [==============================] - 44s 29ms/step - loss: 0.0459 - accuracy: 0.9860 - val_loss: 0.0628 - val_accuracy: 0.9836\n"
     ]
    }
   ],
   "source": [
    "print('# of training images:', X_train.shape[0])\n",
    "print('# of validation images:', X_validation.shape[0])\n",
    "\n",
    "steps_per_epoch = X_train.shape[0]//BATCH_SIZE\n",
    "validation_steps = X_validation.shape[0]//BATCH_SIZE\n",
    "\n",
    "tensorboard = TensorBoard(log_dir=\"logs/{}\".format(time()))\n",
    "model.fit_generator(train_generator, steps_per_epoch=steps_per_epoch, epochs=EPOCHS, \n",
    "                    validation_data=validation_generator, validation_steps=validation_steps,  \n",
    "                    shuffle=True, callbacks=[tensorboard])\n",
    "                    \n",
    "\n",
    "\n",
    "...\n",
    "history = model.fit(X_train, y_train, validation_data=(X_validation, y_validation))"
   ]
  },
  {
   "cell_type": "code",
   "execution_count": 11,
   "metadata": {},
   "outputs": [
    {
     "name": "stdout",
     "output_type": "stream",
     "text": [
      "313/313 [==============================] - 4s 13ms/step - loss: 0.0713 - accuracy: 0.9800\n",
      "Test loss: 0.07133772224187851\n",
      "Test accuracy: 0.9800000190734863\n"
     ]
    }
   ],
   "source": [
    "score = model.evaluate(test_reshaped, test_labels)\n",
    "print('Test loss:', score[0])\n",
    "print('Test accuracy:', score[1])"
   ]
  }
 ],
 "metadata": {
  "kernelspec": {
   "display_name": "Python 3",
   "language": "python",
   "name": "python3"
  },
  "language_info": {
   "codemirror_mode": {
    "name": "ipython",
    "version": 3
   },
   "file_extension": ".py",
   "mimetype": "text/x-python",
   "name": "python",
   "nbconvert_exporter": "python",
   "pygments_lexer": "ipython3",
   "version": "3.6.2"
  }
 },
 "nbformat": 4,
 "nbformat_minor": 2
}
